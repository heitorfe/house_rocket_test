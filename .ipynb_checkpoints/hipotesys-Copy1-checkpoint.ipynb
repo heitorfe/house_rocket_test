{
 "cells": [
  {
   "cell_type": "markdown",
   "id": "2971d8bd",
   "metadata": {},
   "source": [
    "## 0.0. IMPORTS"
   ]
  },
  {
   "cell_type": "code",
   "execution_count": 1,
   "id": "62653933",
   "metadata": {
    "ExecuteTime": {
     "end_time": "2022-02-20T02:13:11.612728Z",
     "start_time": "2022-02-20T02:13:07.994667Z"
    }
   },
   "outputs": [],
   "source": [
    "import numpy as np\n",
    "import pandas as pd\n",
    "import seaborn as sns\n",
    "from matplotlib import pyplot as plt\n",
    "from IPython.display import Image\n",
    "from IPython.core.display import HTML\n"
   ]
  },
  {
   "cell_type": "markdown",
   "id": "923b52dc",
   "metadata": {},
   "source": [
    "### 0.1. Helper Functions "
   ]
  },
  {
   "cell_type": "code",
   "execution_count": 4,
   "id": "d46eb75b",
   "metadata": {
    "ExecuteTime": {
     "end_time": "2022-02-20T02:13:48.611172Z",
     "start_time": "2022-02-20T02:13:48.599252Z"
    }
   },
   "outputs": [],
   "source": [
    "def jupyter_settings():\n",
    "    %matplotlib inline\n",
    "    %pylab inline\n",
    "    plt.style.use( 'bmh' )\n",
    "    plt.rcParams['figure.figsize'] = [25, 12]\n",
    "    plt.rcParams['font.size'] = 24\n",
    "    display( HTML( '<style>.container { width:100% !important; }</style>') )\n",
    "    pd.options.display.max_columns = None\n",
    "    pd.options.display.max_rows = None\n",
    "    pd.set_option( 'display.expand_frame_repr', False )\n",
    "    sns.set()"
   ]
  },
  {
   "cell_type": "code",
   "execution_count": 5,
   "id": "e2c22cd7",
   "metadata": {
    "ExecuteTime": {
     "end_time": "2022-02-20T02:13:49.145831Z",
     "start_time": "2022-02-20T02:13:49.117904Z"
    }
   },
   "outputs": [
    {
     "name": "stdout",
     "output_type": "stream",
     "text": [
      "%pylab is deprecated, use %matplotlib inline and import the required libraries.\n",
      "Populating the interactive namespace from numpy and matplotlib\n"
     ]
    },
    {
     "data": {
      "text/html": [
       "<style>.container { width:100% !important; }</style>"
      ],
      "text/plain": [
       "<IPython.core.display.HTML object>"
      ]
     },
     "metadata": {},
     "output_type": "display_data"
    }
   ],
   "source": [
    "jupyter_settings()\n"
   ]
  },
  {
   "cell_type": "markdown",
   "id": "adbcf91a",
   "metadata": {},
   "source": [
    "### 0.2. Loading data"
   ]
  },
  {
   "cell_type": "code",
   "execution_count": 6,
   "id": "720a4a6c",
   "metadata": {
    "ExecuteTime": {
     "end_time": "2022-02-20T02:15:32.158520Z",
     "start_time": "2022-02-20T02:15:32.090321Z"
    }
   },
   "outputs": [],
   "source": [
    "data = pd.read_csv('kc_house_data.csv')"
   ]
  },
  {
   "cell_type": "markdown",
   "id": "6aa889d9",
   "metadata": {},
   "source": [
    "## 1.0.  DESCRICAO DOS DADOS"
   ]
  },
  {
   "cell_type": "code",
   "execution_count": 9,
   "id": "21841433",
   "metadata": {
    "ExecuteTime": {
     "end_time": "2022-02-20T02:16:34.533632Z",
     "start_time": "2022-02-20T02:16:34.523659Z"
    }
   },
   "outputs": [],
   "source": [
    "df1 = data.copy()"
   ]
  },
  {
   "cell_type": "markdown",
   "id": "aa1aeb9e",
   "metadata": {},
   "source": [
    "### 1.1. Data Dimensions"
   ]
  },
  {
   "cell_type": "code",
   "execution_count": 10,
   "id": "45a6ca48",
   "metadata": {
    "ExecuteTime": {
     "end_time": "2022-02-20T02:16:49.484151Z",
     "start_time": "2022-02-20T02:16:49.470916Z"
    }
   },
   "outputs": [
    {
     "name": "stdout",
     "output_type": "stream",
     "text": [
      "Number of Rows: 21613\n",
      "Number of Cols: 21\n"
     ]
    }
   ],
   "source": [
    "print( 'Number of Rows: {}'.format( df1.shape[0] ) )\n",
    "print( 'Number of Cols: {}'.format( df1.shape[1] ) )"
   ]
  },
  {
   "cell_type": "markdown",
   "id": "622e8c7c",
   "metadata": {},
   "source": [
    "### 1.2. Data Types\n"
   ]
  },
  {
   "cell_type": "code",
   "execution_count": 12,
   "id": "5667fca6",
   "metadata": {
    "ExecuteTime": {
     "end_time": "2022-02-20T02:17:18.879520Z",
     "start_time": "2022-02-20T02:17:18.850682Z"
    }
   },
   "outputs": [],
   "source": [
    "#to datetime\n",
    "df1['date'] = pd.to_datetime( df1['date'] )\n"
   ]
  },
  {
   "cell_type": "markdown",
   "id": "669f2e78",
   "metadata": {},
   "source": [
    "## 2.0. FEATURE ENGINEERING"
   ]
  },
  {
   "cell_type": "markdown",
   "id": "3468e3d3",
   "metadata": {},
   "source": [
    "## 3.0. FILTRAGEM DE VARIÁVEIS\n"
   ]
  },
  {
   "cell_type": "markdown",
   "id": "f75c2d49",
   "metadata": {},
   "source": [
    "## 4.0. ANALISE EXPLORATORIA DOS DADOS"
   ]
  },
  {
   "cell_type": "markdown",
   "id": "a44b7d4c",
   "metadata": {},
   "source": [
    "## 5.0. DATA PREPARATION"
   ]
  },
  {
   "cell_type": "markdown",
   "id": "e5c9d14d",
   "metadata": {},
   "source": [
    "## 6.0. ...\n"
   ]
  },
  {
   "cell_type": "code",
   "execution_count": null,
   "id": "5370c773",
   "metadata": {},
   "outputs": [],
   "source": []
  },
  {
   "cell_type": "code",
   "execution_count": null,
   "id": "9885d4e1",
   "metadata": {},
   "outputs": [],
   "source": []
  },
  {
   "cell_type": "code",
   "execution_count": null,
   "id": "c01c16b3",
   "metadata": {},
   "outputs": [],
   "source": []
  },
  {
   "cell_type": "code",
   "execution_count": null,
   "id": "cb56738f",
   "metadata": {},
   "outputs": [],
   "source": []
  },
  {
   "cell_type": "code",
   "execution_count": null,
   "id": "75f92962",
   "metadata": {},
   "outputs": [],
   "source": []
  },
  {
   "cell_type": "code",
   "execution_count": null,
   "id": "210eb6eb",
   "metadata": {},
   "outputs": [],
   "source": []
  },
  {
   "cell_type": "code",
   "execution_count": null,
   "id": "0f699593",
   "metadata": {},
   "outputs": [],
   "source": []
  },
  {
   "cell_type": "code",
   "execution_count": 25,
   "id": "7954cf47",
   "metadata": {},
   "outputs": [
    {
     "name": "stdout",
     "output_type": "stream",
     "text": [
      "Imóveis com vista para a água são 212.64% mais caros, em média\n",
      "\n",
      "Imóveis com data de construção menor que 1955 são 4.47% mais baratos, na média\n",
      "\n",
      "Imóveis sem porão possuem 18.40% mais espaço no terreno que com porão, na média\n",
      "\n",
      "O crescimento YoY é de 1.07%\n",
      "\n",
      "O crescimento MoM para imóveis com 3 banheiros é de 1.07%\n"
     ]
    }
   ],
   "source": [
    "\n",
    "import pandas as pd\n",
    "import numpy as np\n",
    "import matplotlib.pyplot as plt\n",
    "import seaborn as sns\n",
    "from matplotlib import gridspec\n",
    "pd.set_option('display.float_format', lambda x: '%.2f' % x)\n",
    "\n",
    "\n",
    "\n",
    "def get_data(path):\n",
    "    data = pd.read_csv(path)\n",
    "    return data\n",
    "\n",
    "\n",
    "def create_attributes(data):\n",
    "    num_attributes = data.select_dtypes(['int64', 'float64'])\n",
    "\n",
    "    #central tendency - mean, median\n",
    "    mean = pd.DataFrame(num_attributes.apply(np.mean, axis=0))\n",
    "    median = pd.DataFrame(num_attributes.apply(np.median, axis=0))\n",
    "\n",
    "    #dispersion - std, min, max\n",
    "    std = pd.DataFrame(num_attributes.apply(np.std, axis=0))\n",
    "    min_ = pd.DataFrame(num_attributes.apply(np.min, axis=0))\n",
    "    max_ = pd.DataFrame(num_attributes.apply(np.max, axis=0))\n",
    "\n",
    "    attributes = pd.concat([max_, min_, mean, median, std], axis=1).reset_index()\n",
    "    attributes.columns=['attributes', 'maximum', 'minimum', 'mean', 'median', 'std']\n",
    "\n",
    "\n",
    "    attributes = attributes.drop([0,7,13,14,15,16,17,18,19])\n",
    "    return attributes \n",
    "\n",
    "def season_of_date(data):\n",
    "    data['date']=pd.to_datetime(data['date'], format ='%Y-%m-%d')\n",
    "    data['month']=pd.to_datetime(data['date']).dt.month\n",
    "\n",
    "    data['season'] = data['month'].apply(lambda x: 'spring' if (x>2) & (x<6) else\n",
    "                                    'summer' if (x>5) & (x<9) else\n",
    "                                    'fall' if (x>8) & (x<12) else\n",
    "                                    'winter')\n",
    "    return data\n",
    "\n",
    "\n",
    "\n",
    "\n",
    "\n",
    "def print_hypotesis(data):\n",
    "    \n",
    "    #H1: Imóveis que possuem vista para água, são 30% mais caros, na média.\n",
    "\n",
    "    df1 = data[['price', 'waterfront']].groupby('waterfront').mean().reset_index()\n",
    "\n",
    "    difference = (1661876.02 - 531558.54)/531558.54*100\n",
    "    print('Imóveis com vista para a água são {:0.2f}% mais caros, em média\\n'.format(difference))\n",
    "\n",
    "    #H2: Imóveis com data de construção menor que 1955, são 50% mais baratos, na média.\n",
    "\n",
    "\n",
    "    df3 = data[['price', 'yr_built']].groupby('yr_built').mean().reset_index()\n",
    "\n",
    "    #selecionando yr_built< 1955\n",
    "    df4 = df3.loc[df3['yr_built']<1955]\n",
    "\n",
    "    #selecionando yr_built>= 1955\n",
    "\n",
    "    df5 = df3.loc[df3['yr_built']>=1955]\n",
    "\n",
    "    yr_menor= df4['price'].mean(axis=0)\n",
    "    yr_maior = df5['price'].mean(axis=0)\n",
    "    yr_difference = (yr_maior - yr_menor)/yr_menor*100\n",
    "\n",
    "    print('Imóveis com data de construção menor que 1955 são {:0.2f}% mais baratos, na média\\n'.format(-yr_difference))\n",
    "\n",
    "\n",
    "    #H3: Imóveis sem porão possuem sqrt_lot, são 50% maiores do que com porão.\n",
    "\n",
    "    df1 = data.loc[data['sqft_basement']>0, ['sqft_lot', 'sqft_basement']]\n",
    "    df2 = data.loc[data['sqft_basement']==0, ['sqft_lot', 'sqft_basement']]\n",
    "\n",
    "    sqft_maior = df1['sqft_lot'].mean(axis=0)\n",
    "    sqft_menor = df2['sqft_lot'].mean(axis=0)\n",
    "    difference = (sqft_maior - sqft_menor)/sqft_menor*100\n",
    "\n",
    "    print('Imóveis sem porão possuem {:0.2f}% mais espaço no terreno que com porão, na média\\n'.format(-difference))\n",
    "\n",
    "    #H4: O crescimento do preço dos imóveis YoY ( Year over Year ) é de 10%\n",
    "\n",
    "    data['year'] = pd.to_datetime(data['date']).dt.year\n",
    "\n",
    "\n",
    "\n",
    "\n",
    "    df = data[['price', 'yr_built']].groupby('yr_built').mean().reset_index()\n",
    "\n",
    "\n",
    "    for i in range(len(df)-1):\n",
    "        df.loc[i,'yoy'] = (df.loc[i+1, 'price'] - df.loc[i, 'price'])/df.loc[i, 'price']\n",
    "        df.loc[i,'yr_built_yoy'] = df.loc[i+1, 'yr_built']\n",
    "\n",
    "\n",
    "    yoy_growth = df['yoy'].mean(axis=0)*100\n",
    "\n",
    "    print(\"O crescimento YoY é de {:0.2f}%\\n\".format(yoy_growth))\n",
    "\n",
    "    df = data.loc[data['bathrooms']==3, ['yr_built','price']]\n",
    "    df['month_year'] = pd.to_datetime(data['date']).dt.strftime('%Y-%m')\n",
    "    df = df[['price', 'month_year']].groupby('month_year').mean().reset_index()\n",
    "    for i in range(len(df)-1):\n",
    "        df.loc[i,'mom'] = (df.loc[i+1, 'price'] - df.loc[i, 'price'])/df.loc[i, 'price']\n",
    "        df.loc[i,'yr_built_mom'] = df.loc[i+1, 'month_year']\n",
    "\n",
    "    mom_growth = df['mom'].mean(axis=0)*100\n",
    "    print(\"O crescimento MoM para imóveis com 3 banheiros é de {:0.2f}%\".format(yoy_growth))\n",
    "\n",
    "#Extract\n",
    "\n",
    "data = get_data('kc_house_data.csv')\n",
    "\n",
    "#Transform\n",
    "\n",
    "#removing outliers\n",
    "#bedrooms = 33\n",
    "data = data.drop(15870)\n",
    "\n",
    "attributes = create_attributes(data)\n",
    "\n",
    "#print(attributes)\n",
    "data = season_of_date(data)\n",
    "\n",
    "print_hypotesis(data)\n",
    "\n",
    "\n",
    "\n"
   ]
  },
  {
   "cell_type": "markdown",
   "id": "2d6c9636",
   "metadata": {},
   "source": [
    "H6: A cada quarto a mais, o preço do imóvel é 10% maior\n",
    "    \n",
    "H7: No período de verão, o valor do imóvel é 10% maior que no inverno (julho a agosto)\n",
    "    \n",
    "H8: \n",
    "    \n",
    "H9: \n",
    "    \n",
    "H10: "
   ]
  },
  {
   "cell_type": "markdown",
   "id": "2d9425d6",
   "metadata": {},
   "source": [
    "H1: Imóveis que possuem vista para água, são 30% mais caros, na média.\n",
    "\n",
    "H2: Imóveis com data de construção menor que 1955, são 50% mais baratos, na média.\n",
    "\n",
    "H3: Imóveis sem porão possuem sqrt_lot, são 50% maiores do que com porão.\n",
    "\n",
    "H4: O crescimento do preço dos imóveis YoY ( Year over Year ) é de 10%\n",
    "\n",
    "H5: Imóveis com 3 banheiros tem um crescimento MoM ( Month over Month ) de 15%"
   ]
  },
  {
   "cell_type": "code",
   "execution_count": null,
   "id": "1e978e2d",
   "metadata": {},
   "outputs": [],
   "source": [
    "\n"
   ]
  },
  {
   "cell_type": "code",
   "execution_count": 18,
   "id": "dd61e6e5",
   "metadata": {},
   "outputs": [
    {
     "data": {
      "text/plain": [
       "id                        int64\n",
       "date             datetime64[ns]\n",
       "price                   float64\n",
       "bedrooms                  int64\n",
       "bathrooms               float64\n",
       "sqft_living               int64\n",
       "sqft_lot                  int64\n",
       "floors                  float64\n",
       "waterfront                int64\n",
       "view                      int64\n",
       "condition                 int64\n",
       "grade                     int64\n",
       "sqft_above                int64\n",
       "sqft_basement             int64\n",
       "yr_built                  int64\n",
       "yr_renovated              int64\n",
       "zipcode                   int64\n",
       "lat                     float64\n",
       "long                    float64\n",
       "sqft_living15             int64\n",
       "sqft_lot15                int64\n",
       "year                      int64\n",
       "dtype: object"
      ]
     },
     "execution_count": 18,
     "metadata": {},
     "output_type": "execute_result"
    }
   ],
   "source": [
    "data.dtypes"
   ]
  },
  {
   "cell_type": "code",
   "execution_count": null,
   "id": "f141a286",
   "metadata": {},
   "outputs": [],
   "source": [
    "fig = plt.figure(figsize=(14,12))\n",
    "specs = gridspec.GridSpec(ncols=1,nrows=2, figure=fig)\n",
    "\n",
    "ax1 = fig.add_subplot(specs[0,:])\n",
    "ax2 = fig.add_subplot(specs[1,:])\n",
    "\n",
    "df = data[['price', 'season']].groupby('season').mean().reset_index()\n",
    "sns.barplot(x='season', y='price', data = df, ax = ax1)\n",
    "sns.barplot(x='waterfront', y='price', data = data, ax = ax2, orient='h')\n",
    "\n",
    "\n",
    "\n"
   ]
  },
  {
   "cell_type": "code",
   "execution_count": null,
   "id": "42d2c571",
   "metadata": {},
   "outputs": [],
   "source": []
  }
 ],
 "metadata": {
  "kernelspec": {
   "display_name": "Python 3 (ipykernel)",
   "language": "python",
   "name": "python3"
  },
  "language_info": {
   "codemirror_mode": {
    "name": "ipython",
    "version": 3
   },
   "file_extension": ".py",
   "mimetype": "text/x-python",
   "name": "python",
   "nbconvert_exporter": "python",
   "pygments_lexer": "ipython3",
   "version": "3.10.1"
  },
  "varInspector": {
   "cols": {
    "lenName": 16,
    "lenType": 16,
    "lenVar": 40
   },
   "kernels_config": {
    "python": {
     "delete_cmd_postfix": "",
     "delete_cmd_prefix": "del ",
     "library": "var_list.py",
     "varRefreshCmd": "print(var_dic_list())"
    },
    "r": {
     "delete_cmd_postfix": ") ",
     "delete_cmd_prefix": "rm(",
     "library": "var_list.r",
     "varRefreshCmd": "cat(var_dic_list()) "
    }
   },
   "types_to_exclude": [
    "module",
    "function",
    "builtin_function_or_method",
    "instance",
    "_Feature"
   ],
   "window_display": false
  }
 },
 "nbformat": 4,
 "nbformat_minor": 5
}
